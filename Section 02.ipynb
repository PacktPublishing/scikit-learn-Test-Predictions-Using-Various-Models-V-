{
 "cells": [
  {
   "cell_type": "markdown",
   "metadata": {},
   "source": [
    "####  Exploring various repositories and datasets"
   ]
  },
  {
   "cell_type": "code",
   "execution_count": 1,
   "metadata": {
    "collapsed": true
   },
   "outputs": [],
   "source": [
    "import pandas as pd\n",
    "data_web_address = \"https://archive.ics.uci.edu/ml/machine-learning-databases/pima-indians-diabetes/pima-indians-diabetes.data\"\n",
    "column_names = ['pregnancy_x', \n",
    "                'plasma_con', \n",
    "                'blood_pressure', \n",
    "                'skin_mm', \n",
    "                'insulin', \n",
    "                'bmi', \n",
    "                'pedigree_func', \n",
    "                'age', \n",
    "                'target']"
   ]
  },
  {
   "cell_type": "code",
   "execution_count": 2,
   "metadata": {
    "collapsed": true
   },
   "outputs": [],
   "source": [
    "feature_names = column_names[:-1]\n",
    "all_data = pd.read_csv(data_web_address , names=column_names)"
   ]
  },
  {
   "cell_type": "code",
   "execution_count": 3,
   "metadata": {},
   "outputs": [
    {
     "data": {
      "text/html": [
       "<div>\n",
       "<style>\n",
       "    .dataframe thead tr:only-child th {\n",
       "        text-align: right;\n",
       "    }\n",
       "\n",
       "    .dataframe thead th {\n",
       "        text-align: left;\n",
       "    }\n",
       "\n",
       "    .dataframe tbody tr th {\n",
       "        vertical-align: top;\n",
       "    }\n",
       "</style>\n",
       "<table border=\"1\" class=\"dataframe\">\n",
       "  <thead>\n",
       "    <tr style=\"text-align: right;\">\n",
       "      <th></th>\n",
       "      <th>pregnancy_x</th>\n",
       "      <th>plasma_con</th>\n",
       "      <th>blood_pressure</th>\n",
       "      <th>skin_mm</th>\n",
       "      <th>insulin</th>\n",
       "      <th>bmi</th>\n",
       "      <th>pedigree_func</th>\n",
       "      <th>age</th>\n",
       "      <th>target</th>\n",
       "    </tr>\n",
       "  </thead>\n",
       "  <tbody>\n",
       "    <tr>\n",
       "      <th>0</th>\n",
       "      <td>6</td>\n",
       "      <td>148</td>\n",
       "      <td>72</td>\n",
       "      <td>35</td>\n",
       "      <td>0</td>\n",
       "      <td>33.6</td>\n",
       "      <td>0.627</td>\n",
       "      <td>50</td>\n",
       "      <td>1</td>\n",
       "    </tr>\n",
       "    <tr>\n",
       "      <th>1</th>\n",
       "      <td>1</td>\n",
       "      <td>85</td>\n",
       "      <td>66</td>\n",
       "      <td>29</td>\n",
       "      <td>0</td>\n",
       "      <td>26.6</td>\n",
       "      <td>0.351</td>\n",
       "      <td>31</td>\n",
       "      <td>0</td>\n",
       "    </tr>\n",
       "    <tr>\n",
       "      <th>2</th>\n",
       "      <td>8</td>\n",
       "      <td>183</td>\n",
       "      <td>64</td>\n",
       "      <td>0</td>\n",
       "      <td>0</td>\n",
       "      <td>23.3</td>\n",
       "      <td>0.672</td>\n",
       "      <td>32</td>\n",
       "      <td>1</td>\n",
       "    </tr>\n",
       "    <tr>\n",
       "      <th>3</th>\n",
       "      <td>1</td>\n",
       "      <td>89</td>\n",
       "      <td>66</td>\n",
       "      <td>23</td>\n",
       "      <td>94</td>\n",
       "      <td>28.1</td>\n",
       "      <td>0.167</td>\n",
       "      <td>21</td>\n",
       "      <td>0</td>\n",
       "    </tr>\n",
       "    <tr>\n",
       "      <th>4</th>\n",
       "      <td>0</td>\n",
       "      <td>137</td>\n",
       "      <td>40</td>\n",
       "      <td>35</td>\n",
       "      <td>168</td>\n",
       "      <td>43.1</td>\n",
       "      <td>2.288</td>\n",
       "      <td>33</td>\n",
       "      <td>1</td>\n",
       "    </tr>\n",
       "  </tbody>\n",
       "</table>\n",
       "</div>"
      ],
      "text/plain": [
       "   pregnancy_x  plasma_con  blood_pressure  skin_mm  insulin   bmi  \\\n",
       "0            6         148              72       35        0  33.6   \n",
       "1            1          85              66       29        0  26.6   \n",
       "2            8         183              64        0        0  23.3   \n",
       "3            1          89              66       23       94  28.1   \n",
       "4            0         137              40       35      168  43.1   \n",
       "\n",
       "   pedigree_func  age  target  \n",
       "0          0.627   50       1  \n",
       "1          0.351   31       0  \n",
       "2          0.672   32       1  \n",
       "3          0.167   21       0  \n",
       "4          2.288   33       1  "
      ]
     },
     "execution_count": 3,
     "metadata": {},
     "output_type": "execute_result"
    }
   ],
   "source": [
    "all_data.head()"
   ]
  },
  {
   "cell_type": "code",
   "execution_count": 4,
   "metadata": {},
   "outputs": [
    {
     "data": {
      "text/html": [
       "<div>\n",
       "<style>\n",
       "    .dataframe thead tr:only-child th {\n",
       "        text-align: right;\n",
       "    }\n",
       "\n",
       "    .dataframe thead th {\n",
       "        text-align: left;\n",
       "    }\n",
       "\n",
       "    .dataframe tbody tr th {\n",
       "        vertical-align: top;\n",
       "    }\n",
       "</style>\n",
       "<table border=\"1\" class=\"dataframe\">\n",
       "  <thead>\n",
       "    <tr style=\"text-align: right;\">\n",
       "      <th></th>\n",
       "      <th>pregnancy_x</th>\n",
       "      <th>plasma_con</th>\n",
       "      <th>blood_pressure</th>\n",
       "      <th>skin_mm</th>\n",
       "      <th>insulin</th>\n",
       "      <th>bmi</th>\n",
       "      <th>pedigree_func</th>\n",
       "      <th>age</th>\n",
       "      <th>target</th>\n",
       "    </tr>\n",
       "  </thead>\n",
       "  <tbody>\n",
       "    <tr>\n",
       "      <th>count</th>\n",
       "      <td>768.000000</td>\n",
       "      <td>768.000000</td>\n",
       "      <td>768.000000</td>\n",
       "      <td>768.000000</td>\n",
       "      <td>768.000000</td>\n",
       "      <td>768.000000</td>\n",
       "      <td>768.000000</td>\n",
       "      <td>768.000000</td>\n",
       "      <td>768.000000</td>\n",
       "    </tr>\n",
       "    <tr>\n",
       "      <th>mean</th>\n",
       "      <td>3.845052</td>\n",
       "      <td>120.894531</td>\n",
       "      <td>69.105469</td>\n",
       "      <td>20.536458</td>\n",
       "      <td>79.799479</td>\n",
       "      <td>31.992578</td>\n",
       "      <td>0.471876</td>\n",
       "      <td>33.240885</td>\n",
       "      <td>0.348958</td>\n",
       "    </tr>\n",
       "    <tr>\n",
       "      <th>std</th>\n",
       "      <td>3.369578</td>\n",
       "      <td>31.972618</td>\n",
       "      <td>19.355807</td>\n",
       "      <td>15.952218</td>\n",
       "      <td>115.244002</td>\n",
       "      <td>7.884160</td>\n",
       "      <td>0.331329</td>\n",
       "      <td>11.760232</td>\n",
       "      <td>0.476951</td>\n",
       "    </tr>\n",
       "    <tr>\n",
       "      <th>min</th>\n",
       "      <td>0.000000</td>\n",
       "      <td>0.000000</td>\n",
       "      <td>0.000000</td>\n",
       "      <td>0.000000</td>\n",
       "      <td>0.000000</td>\n",
       "      <td>0.000000</td>\n",
       "      <td>0.078000</td>\n",
       "      <td>21.000000</td>\n",
       "      <td>0.000000</td>\n",
       "    </tr>\n",
       "    <tr>\n",
       "      <th>25%</th>\n",
       "      <td>1.000000</td>\n",
       "      <td>99.000000</td>\n",
       "      <td>62.000000</td>\n",
       "      <td>0.000000</td>\n",
       "      <td>0.000000</td>\n",
       "      <td>27.300000</td>\n",
       "      <td>0.243750</td>\n",
       "      <td>24.000000</td>\n",
       "      <td>0.000000</td>\n",
       "    </tr>\n",
       "    <tr>\n",
       "      <th>50%</th>\n",
       "      <td>3.000000</td>\n",
       "      <td>117.000000</td>\n",
       "      <td>72.000000</td>\n",
       "      <td>23.000000</td>\n",
       "      <td>30.500000</td>\n",
       "      <td>32.000000</td>\n",
       "      <td>0.372500</td>\n",
       "      <td>29.000000</td>\n",
       "      <td>0.000000</td>\n",
       "    </tr>\n",
       "    <tr>\n",
       "      <th>75%</th>\n",
       "      <td>6.000000</td>\n",
       "      <td>140.250000</td>\n",
       "      <td>80.000000</td>\n",
       "      <td>32.000000</td>\n",
       "      <td>127.250000</td>\n",
       "      <td>36.600000</td>\n",
       "      <td>0.626250</td>\n",
       "      <td>41.000000</td>\n",
       "      <td>1.000000</td>\n",
       "    </tr>\n",
       "    <tr>\n",
       "      <th>max</th>\n",
       "      <td>17.000000</td>\n",
       "      <td>199.000000</td>\n",
       "      <td>122.000000</td>\n",
       "      <td>99.000000</td>\n",
       "      <td>846.000000</td>\n",
       "      <td>67.100000</td>\n",
       "      <td>2.420000</td>\n",
       "      <td>81.000000</td>\n",
       "      <td>1.000000</td>\n",
       "    </tr>\n",
       "  </tbody>\n",
       "</table>\n",
       "</div>"
      ],
      "text/plain": [
       "       pregnancy_x  plasma_con  blood_pressure     skin_mm     insulin  \\\n",
       "count   768.000000  768.000000      768.000000  768.000000  768.000000   \n",
       "mean      3.845052  120.894531       69.105469   20.536458   79.799479   \n",
       "std       3.369578   31.972618       19.355807   15.952218  115.244002   \n",
       "min       0.000000    0.000000        0.000000    0.000000    0.000000   \n",
       "25%       1.000000   99.000000       62.000000    0.000000    0.000000   \n",
       "50%       3.000000  117.000000       72.000000   23.000000   30.500000   \n",
       "75%       6.000000  140.250000       80.000000   32.000000  127.250000   \n",
       "max      17.000000  199.000000      122.000000   99.000000  846.000000   \n",
       "\n",
       "              bmi  pedigree_func         age      target  \n",
       "count  768.000000     768.000000  768.000000  768.000000  \n",
       "mean    31.992578       0.471876   33.240885    0.348958  \n",
       "std      7.884160       0.331329   11.760232    0.476951  \n",
       "min      0.000000       0.078000   21.000000    0.000000  \n",
       "25%     27.300000       0.243750   24.000000    0.000000  \n",
       "50%     32.000000       0.372500   29.000000    0.000000  \n",
       "75%     36.600000       0.626250   41.000000    1.000000  \n",
       "max     67.100000       2.420000   81.000000    1.000000  "
      ]
     },
     "execution_count": 4,
     "metadata": {},
     "output_type": "execute_result"
    }
   ],
   "source": [
    "all_data.describe()"
   ]
  },
  {
   "cell_type": "code",
   "execution_count": 6,
   "metadata": {},
   "outputs": [
    {
     "data": {
      "image/png": "[encoded data removed]",
      "text/plain": [
       "<matplotlib.figure.Figure at 0x9086780>"
      ]
     },
     "metadata": {},
     "output_type": "display_data"
    }
   ],
   "source": [
    "all_data.pregnancy_x.hist(bins=50)\n",
    "import matplotlib.pyplot as plt\n",
    "plt.show()"
   ]
  },
  {
   "cell_type": "code",
   "execution_count": 9,
   "metadata": {},
   "outputs": [
    {
     "data": {
      "image/png": "[encoded data removed]",
      "text/plain": [
       "<matplotlib.figure.Figure at 0xb030f98>"
      ]
     },
     "metadata": {},
     "output_type": "display_data"
    }
   ],
   "source": [
    "all_data.hist(figsize=(15,9),bins=50)\n",
    "plt.show()"
   ]
  },
  {
   "cell_type": "code",
   "execution_count": 10,
   "metadata": {},
   "outputs": [
    {
     "data": {
      "text/plain": [
       "0    500\n",
       "1    268\n",
       "Name: target, dtype: int64"
      ]
     },
     "execution_count": 10,
     "metadata": {},
     "output_type": "execute_result"
    }
   ],
   "source": [
    "all_data.target.value_counts()"
   ]
  },
  {
   "cell_type": "markdown",
   "metadata": {},
   "source": [
    "#### Logistic regression and confusion matrix"
   ]
  },
  {
   "cell_type": "code",
   "execution_count": 11,
   "metadata": {
    "collapsed": true
   },
   "outputs": [],
   "source": [
    "import numpy as np\n",
    "X = all_data[feature_names]\n",
    "y = all_data['target']"
   ]
  },
  {
   "cell_type": "code",
   "execution_count": 12,
   "metadata": {
    "collapsed": true
   },
   "outputs": [],
   "source": [
    "from sklearn.model_selection import train_test_split\n",
    "X_train, X_test, y_train, y_test = train_test_split(X, y,test_size=0.2, random_state=7,stratify=y)"
   ]
  },
  {
   "cell_type": "code",
   "execution_count": 13,
   "metadata": {},
   "outputs": [
    {
     "data": {
      "text/plain": [
       "LogisticRegression(C=1.0, class_weight=None, dual=False, fit_intercept=True,\n",
       "          intercept_scaling=1, max_iter=100, multi_class='ovr', n_jobs=1,\n",
       "          penalty='l2', random_state=None, solver='liblinear', tol=0.0001,\n",
       "          verbose=0, warm_start=False)"
      ]
     },
     "execution_count": 13,
     "metadata": {},
     "output_type": "execute_result"
    }
   ],
   "source": [
    "from sklearn.linear_model import LogisticRegression\n",
    "lr = LogisticRegression()\n",
    "lr.fit(X_train,y_train)"
   ]
  },
  {
   "cell_type": "code",
   "execution_count": 14,
   "metadata": {
    "collapsed": true
   },
   "outputs": [],
   "source": [
    "y_pred = lr.predict(X_test)"
   ]
  },
  {
   "cell_type": "code",
   "execution_count": 15,
   "metadata": {},
   "outputs": [
    {
     "data": {
      "text/plain": [
       "0.74675324675324672"
      ]
     },
     "execution_count": 15,
     "metadata": {},
     "output_type": "execute_result"
    }
   ],
   "source": [
    "from sklearn.metrics import accuracy_score\n",
    "accuracy_score(y_test,y_pred)"
   ]
  },
  {
   "cell_type": "code",
   "execution_count": 16,
   "metadata": {},
   "outputs": [
    {
     "data": {
      "text/plain": [
       "array([[27, 27],\n",
       "       [12, 88]])"
      ]
     },
     "execution_count": 16,
     "metadata": {},
     "output_type": "execute_result"
    }
   ],
   "source": [
    "from sklearn.metrics import confusion_matrix\n",
    "confusion_matrix(y_test, y_pred,labels = [1,0])"
   ]
  },
  {
   "cell_type": "markdown",
   "metadata": {},
   "source": [
    "#### Varying the classification threshold in logistic regression "
   ]
  },
  {
   "cell_type": "code",
   "execution_count": 17,
   "metadata": {},
   "outputs": [
    {
     "data": {
      "text/plain": [
       "array([[ 0.87111104,  0.12888896],\n",
       "       [ 0.84000803,  0.15999197],\n",
       "       [ 0.8182751 ,  0.1817249 ],\n",
       "       [ 0.73979367,  0.26020633],\n",
       "       [ 0.80394249,  0.19605751],\n",
       "       [ 0.97662351,  0.02337649],\n",
       "       [ 0.91420349,  0.08579651],\n",
       "       [ 0.69100124,  0.30899876],\n",
       "       [ 0.84742543,  0.15257457],\n",
       "       [ 0.42467404,  0.57532596],\n",
       "       [ 0.80530357,  0.19469643],\n",
       "       [ 0.45489007,  0.54510993],\n",
       "       [ 0.76048394,  0.23951606],\n",
       "       [ 0.78348704,  0.21651296],\n",
       "       [ 0.26617347,  0.73382653],\n",
       "       [ 0.92887059,  0.07112941],\n",
       "       [ 0.48232289,  0.51767711],\n",
       "       [ 0.76436334,  0.23563666],\n",
       "       [ 0.72848225,  0.27151775],\n",
       "       [ 0.9718447 ,  0.0281553 ],\n",
       "       [ 0.38360476,  0.61639524],\n",
       "       [ 0.37864396,  0.62135604],\n",
       "       [ 0.69900059,  0.30099941],\n",
       "       [ 0.63860979,  0.36139021],\n",
       "       [ 0.26274478,  0.73725522],\n",
       "       [ 0.68877782,  0.31122218],\n",
       "       [ 0.69870553,  0.30129447],\n",
       "       [ 0.90454488,  0.09545512],\n",
       "       [ 0.82254   ,  0.17746   ],\n",
       "       [ 0.20750474,  0.79249526],\n",
       "       [ 0.24258486,  0.75741514],\n",
       "       [ 0.38891738,  0.61108262],\n",
       "       [ 0.81475265,  0.18524735],\n",
       "       [ 0.62100989,  0.37899011],\n",
       "       [ 0.32048995,  0.67951005],\n",
       "       [ 0.86993339,  0.13006661],\n",
       "       [ 0.82653268,  0.17346732],\n",
       "       [ 0.26854757,  0.73145243],\n",
       "       [ 0.66391257,  0.33608743],\n",
       "       [ 0.59838819,  0.40161181],\n",
       "       [ 0.67985173,  0.32014827],\n",
       "       [ 0.85129339,  0.14870661],\n",
       "       [ 0.80096412,  0.19903588],\n",
       "       [ 0.89286807,  0.10713193],\n",
       "       [ 0.86072378,  0.13927622],\n",
       "       [ 0.73085944,  0.26914056],\n",
       "       [ 0.70133084,  0.29866916],\n",
       "       [ 0.52736695,  0.47263305],\n",
       "       [ 0.87943629,  0.12056371],\n",
       "       [ 0.82311918,  0.17688082],\n",
       "       [ 0.6084035 ,  0.3915965 ],\n",
       "       [ 0.3975915 ,  0.6024085 ],\n",
       "       [ 0.72737565,  0.27262435],\n",
       "       [ 0.70017455,  0.29982545],\n",
       "       [ 0.80337955,  0.19662045],\n",
       "       [ 0.88749866,  0.11250134],\n",
       "       [ 0.36372932,  0.63627068],\n",
       "       [ 0.89268489,  0.10731511],\n",
       "       [ 0.77559398,  0.22440602],\n",
       "       [ 0.78656223,  0.21343777],\n",
       "       [ 0.42917985,  0.57082015],\n",
       "       [ 0.78274047,  0.21725953],\n",
       "       [ 0.61794917,  0.38205083],\n",
       "       [ 0.93208915,  0.06791085],\n",
       "       [ 0.86910258,  0.13089742],\n",
       "       [ 0.67249059,  0.32750941],\n",
       "       [ 0.64660701,  0.35339299],\n",
       "       [ 0.32368122,  0.67631878],\n",
       "       [ 0.75563336,  0.24436664],\n",
       "       [ 0.42401146,  0.57598854],\n",
       "       [ 0.36779469,  0.63220531],\n",
       "       [ 0.77224476,  0.22775524],\n",
       "       [ 0.74182664,  0.25817336],\n",
       "       [ 0.40686651,  0.59313349],\n",
       "       [ 0.76019375,  0.23980625],\n",
       "       [ 0.26963965,  0.73036035],\n",
       "       [ 0.28185753,  0.71814247],\n",
       "       [ 0.81495912,  0.18504088],\n",
       "       [ 0.55423092,  0.44576908],\n",
       "       [ 0.88695045,  0.11304955],\n",
       "       [ 0.50927029,  0.49072971],\n",
       "       [ 0.30577765,  0.69422235],\n",
       "       [ 0.94246967,  0.05753033],\n",
       "       [ 0.92614271,  0.07385729],\n",
       "       [ 0.82975736,  0.17024264],\n",
       "       [ 0.51032695,  0.48967305],\n",
       "       [ 0.48158188,  0.51841812],\n",
       "       [ 0.81126663,  0.18873337],\n",
       "       [ 0.11173084,  0.88826916],\n",
       "       [ 0.81833162,  0.18166838],\n",
       "       [ 0.83946017,  0.16053983],\n",
       "       [ 0.9197231 ,  0.0802769 ],\n",
       "       [ 0.62088404,  0.37911596],\n",
       "       [ 0.91543808,  0.08456192],\n",
       "       [ 0.74943853,  0.25056147],\n",
       "       [ 0.32603494,  0.67396506],\n",
       "       [ 0.43839583,  0.56160417],\n",
       "       [ 0.40982567,  0.59017433],\n",
       "       [ 0.75989582,  0.24010418],\n",
       "       [ 0.50817976,  0.49182024],\n",
       "       [ 0.8677941 ,  0.1322059 ],\n",
       "       [ 0.86770407,  0.13229593],\n",
       "       [ 0.84436043,  0.15563957],\n",
       "       [ 0.72063587,  0.27936413],\n",
       "       [ 0.9290115 ,  0.0709885 ],\n",
       "       [ 0.7905482 ,  0.2094518 ],\n",
       "       [ 0.92682706,  0.07317294],\n",
       "       [ 0.50461941,  0.49538059],\n",
       "       [ 0.90310113,  0.09689887],\n",
       "       [ 0.61249089,  0.38750911],\n",
       "       [ 0.62902648,  0.37097352],\n",
       "       [ 0.90507805,  0.09492195],\n",
       "       [ 0.53486042,  0.46513958],\n",
       "       [ 0.40763128,  0.59236872],\n",
       "       [ 0.39153543,  0.60846457],\n",
       "       [ 0.15909076,  0.84090924],\n",
       "       [ 0.84443655,  0.15556345],\n",
       "       [ 0.85840636,  0.14159364],\n",
       "       [ 0.66769291,  0.33230709],\n",
       "       [ 0.86781536,  0.13218464],\n",
       "       [ 0.41602023,  0.58397977],\n",
       "       [ 0.68036998,  0.31963002],\n",
       "       [ 0.17351531,  0.82648469],\n",
       "       [ 0.52798169,  0.47201831],\n",
       "       [ 0.79412956,  0.20587044],\n",
       "       [ 0.83075381,  0.16924619],\n",
       "       [ 0.65748444,  0.34251556],\n",
       "       [ 0.46197235,  0.53802765],\n",
       "       [ 0.38876434,  0.61123566],\n",
       "       [ 0.60713889,  0.39286111],\n",
       "       [ 0.62213202,  0.37786798],\n",
       "       [ 0.94814324,  0.05185676],\n",
       "       [ 0.26928926,  0.73071074],\n",
       "       [ 0.95018022,  0.04981978],\n",
       "       [ 0.76216644,  0.23783356],\n",
       "       [ 0.48581076,  0.51418924],\n",
       "       [ 0.92923876,  0.07076124],\n",
       "       [ 0.72136043,  0.27863957],\n",
       "       [ 0.50088477,  0.49911523],\n",
       "       [ 0.39481702,  0.60518298],\n",
       "       [ 0.64562808,  0.35437192],\n",
       "       [ 0.41762962,  0.58237038],\n",
       "       [ 0.70228271,  0.29771729],\n",
       "       [ 0.68160703,  0.31839297],\n",
       "       [ 0.68741927,  0.31258073],\n",
       "       [ 0.85311504,  0.14688496],\n",
       "       [ 0.84294488,  0.15705512],\n",
       "       [ 0.6021112 ,  0.3978888 ],\n",
       "       [ 0.91825786,  0.08174214],\n",
       "       [ 0.80727502,  0.19272498],\n",
       "       [ 0.88302128,  0.11697872],\n",
       "       [ 0.27929674,  0.72070326],\n",
       "       [ 0.923742  ,  0.076258  ],\n",
       "       [ 0.58196025,  0.41803975]])"
      ]
     },
     "execution_count": 17,
     "metadata": {},
     "output_type": "execute_result"
    }
   ],
   "source": [
    "y_pred_proba = lr.predict_proba(X_test)\n",
    "y_pred_proba"
   ]
  },
  {
   "cell_type": "code",
   "execution_count": 19,
   "metadata": {},
   "outputs": [
    {
     "data": {
      "image/png": "[encoded data removed]",
      "text/plain": [
       "<matplotlib.figure.Figure at 0xd830390>"
      ]
     },
     "metadata": {},
     "output_type": "display_data"
    }
   ],
   "source": [
    "pd.Series(y_pred_proba[:,1]).hist()\n",
    "plt.show()"
   ]
  },
  {
   "cell_type": "code",
   "execution_count": 21,
   "metadata": {},
   "outputs": [
    {
     "data": {
      "image/png": "[encoded data removed]",
      "text/plain": [
       "<matplotlib.figure.Figure at 0xd6eed68>"
      ]
     },
     "metadata": {},
     "output_type": "display_data"
    }
   ],
   "source": [
    "all_data['target'].hist()\n",
    "plt.show()"
   ]
  },
  {
   "cell_type": "code",
   "execution_count": 23,
   "metadata": {},
   "outputs": [
    {
     "data": {
      "text/plain": [
       "array([[ 0.87111104,  0.12888896],\n",
       "       [ 0.84000803,  0.15999197],\n",
       "       [ 0.8182751 ,  0.1817249 ],\n",
       "       [ 0.73979367,  0.26020633],\n",
       "       [ 0.80394249,  0.19605751],\n",
       "       [ 0.97662351,  0.02337649],\n",
       "       [ 0.91420349,  0.08579651],\n",
       "       [ 0.69100124,  0.30899876],\n",
       "       [ 0.84742543,  0.15257457],\n",
       "       [ 0.42467404,  0.57532596],\n",
       "       [ 0.80530357,  0.19469643],\n",
       "       [ 0.45489007,  0.54510993],\n",
       "       [ 0.76048394,  0.23951606],\n",
       "       [ 0.78348704,  0.21651296],\n",
       "       [ 0.26617347,  0.73382653],\n",
       "       [ 0.92887059,  0.07112941],\n",
       "       [ 0.48232289,  0.51767711],\n",
       "       [ 0.76436334,  0.23563666],\n",
       "       [ 0.72848225,  0.27151775],\n",
       "       [ 0.9718447 ,  0.0281553 ],\n",
       "       [ 0.38360476,  0.61639524],\n",
       "       [ 0.37864396,  0.62135604],\n",
       "       [ 0.69900059,  0.30099941],\n",
       "       [ 0.63860979,  0.36139021],\n",
       "       [ 0.26274478,  0.73725522],\n",
       "       [ 0.68877782,  0.31122218],\n",
       "       [ 0.69870553,  0.30129447],\n",
       "       [ 0.90454488,  0.09545512],\n",
       "       [ 0.82254   ,  0.17746   ],\n",
       "       [ 0.20750474,  0.79249526],\n",
       "       [ 0.24258486,  0.75741514],\n",
       "       [ 0.38891738,  0.61108262],\n",
       "       [ 0.81475265,  0.18524735],\n",
       "       [ 0.62100989,  0.37899011],\n",
       "       [ 0.32048995,  0.67951005],\n",
       "       [ 0.86993339,  0.13006661],\n",
       "       [ 0.82653268,  0.17346732],\n",
       "       [ 0.26854757,  0.73145243],\n",
       "       [ 0.66391257,  0.33608743],\n",
       "       [ 0.59838819,  0.40161181],\n",
       "       [ 0.67985173,  0.32014827],\n",
       "       [ 0.85129339,  0.14870661],\n",
       "       [ 0.80096412,  0.19903588],\n",
       "       [ 0.89286807,  0.10713193],\n",
       "       [ 0.86072378,  0.13927622],\n",
       "       [ 0.73085944,  0.26914056],\n",
       "       [ 0.70133084,  0.29866916],\n",
       "       [ 0.52736695,  0.47263305],\n",
       "       [ 0.87943629,  0.12056371],\n",
       "       [ 0.82311918,  0.17688082],\n",
       "       [ 0.6084035 ,  0.3915965 ],\n",
       "       [ 0.3975915 ,  0.6024085 ],\n",
       "       [ 0.72737565,  0.27262435],\n",
       "       [ 0.70017455,  0.29982545],\n",
       "       [ 0.80337955,  0.19662045],\n",
       "       [ 0.88749866,  0.11250134],\n",
       "       [ 0.36372932,  0.63627068],\n",
       "       [ 0.89268489,  0.10731511],\n",
       "       [ 0.77559398,  0.22440602],\n",
       "       [ 0.78656223,  0.21343777],\n",
       "       [ 0.42917985,  0.57082015],\n",
       "       [ 0.78274047,  0.21725953],\n",
       "       [ 0.61794917,  0.38205083],\n",
       "       [ 0.93208915,  0.06791085],\n",
       "       [ 0.86910258,  0.13089742],\n",
       "       [ 0.67249059,  0.32750941],\n",
       "       [ 0.64660701,  0.35339299],\n",
       "       [ 0.32368122,  0.67631878],\n",
       "       [ 0.75563336,  0.24436664],\n",
       "       [ 0.42401146,  0.57598854],\n",
       "       [ 0.36779469,  0.63220531],\n",
       "       [ 0.77224476,  0.22775524],\n",
       "       [ 0.74182664,  0.25817336],\n",
       "       [ 0.40686651,  0.59313349],\n",
       "       [ 0.76019375,  0.23980625],\n",
       "       [ 0.26963965,  0.73036035],\n",
       "       [ 0.28185753,  0.71814247],\n",
       "       [ 0.81495912,  0.18504088],\n",
       "       [ 0.55423092,  0.44576908],\n",
       "       [ 0.88695045,  0.11304955],\n",
       "       [ 0.50927029,  0.49072971],\n",
       "       [ 0.30577765,  0.69422235],\n",
       "       [ 0.94246967,  0.05753033],\n",
       "       [ 0.92614271,  0.07385729],\n",
       "       [ 0.82975736,  0.17024264],\n",
       "       [ 0.51032695,  0.48967305],\n",
       "       [ 0.48158188,  0.51841812],\n",
       "       [ 0.81126663,  0.18873337],\n",
       "       [ 0.11173084,  0.88826916],\n",
       "       [ 0.81833162,  0.18166838],\n",
       "       [ 0.83946017,  0.16053983],\n",
       "       [ 0.9197231 ,  0.0802769 ],\n",
       "       [ 0.62088404,  0.37911596],\n",
       "       [ 0.91543808,  0.08456192],\n",
       "       [ 0.74943853,  0.25056147],\n",
       "       [ 0.32603494,  0.67396506],\n",
       "       [ 0.43839583,  0.56160417],\n",
       "       [ 0.40982567,  0.59017433],\n",
       "       [ 0.75989582,  0.24010418],\n",
       "       [ 0.50817976,  0.49182024],\n",
       "       [ 0.8677941 ,  0.1322059 ],\n",
       "       [ 0.86770407,  0.13229593],\n",
       "       [ 0.84436043,  0.15563957],\n",
       "       [ 0.72063587,  0.27936413],\n",
       "       [ 0.9290115 ,  0.0709885 ],\n",
       "       [ 0.7905482 ,  0.2094518 ],\n",
       "       [ 0.92682706,  0.07317294],\n",
       "       [ 0.50461941,  0.49538059],\n",
       "       [ 0.90310113,  0.09689887],\n",
       "       [ 0.61249089,  0.38750911],\n",
       "       [ 0.62902648,  0.37097352],\n",
       "       [ 0.90507805,  0.09492195],\n",
       "       [ 0.53486042,  0.46513958],\n",
       "       [ 0.40763128,  0.59236872],\n",
       "       [ 0.39153543,  0.60846457],\n",
       "       [ 0.15909076,  0.84090924],\n",
       "       [ 0.84443655,  0.15556345],\n",
       "       [ 0.85840636,  0.14159364],\n",
       "       [ 0.66769291,  0.33230709],\n",
       "       [ 0.86781536,  0.13218464],\n",
       "       [ 0.41602023,  0.58397977],\n",
       "       [ 0.68036998,  0.31963002],\n",
       "       [ 0.17351531,  0.82648469],\n",
       "       [ 0.52798169,  0.47201831],\n",
       "       [ 0.79412956,  0.20587044],\n",
       "       [ 0.83075381,  0.16924619],\n",
       "       [ 0.65748444,  0.34251556],\n",
       "       [ 0.46197235,  0.53802765],\n",
       "       [ 0.38876434,  0.61123566],\n",
       "       [ 0.60713889,  0.39286111],\n",
       "       [ 0.62213202,  0.37786798],\n",
       "       [ 0.94814324,  0.05185676],\n",
       "       [ 0.26928926,  0.73071074],\n",
       "       [ 0.95018022,  0.04981978],\n",
       "       [ 0.76216644,  0.23783356],\n",
       "       [ 0.48581076,  0.51418924],\n",
       "       [ 0.92923876,  0.07076124],\n",
       "       [ 0.72136043,  0.27863957],\n",
       "       [ 0.50088477,  0.49911523],\n",
       "       [ 0.39481702,  0.60518298],\n",
       "       [ 0.64562808,  0.35437192],\n",
       "       [ 0.41762962,  0.58237038],\n",
       "       [ 0.70228271,  0.29771729],\n",
       "       [ 0.68160703,  0.31839297],\n",
       "       [ 0.68741927,  0.31258073],\n",
       "       [ 0.85311504,  0.14688496],\n",
       "       [ 0.84294488,  0.15705512],\n",
       "       [ 0.6021112 ,  0.3978888 ],\n",
       "       [ 0.91825786,  0.08174214],\n",
       "       [ 0.80727502,  0.19272498],\n",
       "       [ 0.88302128,  0.11697872],\n",
       "       [ 0.27929674,  0.72070326],\n",
       "       [ 0.923742  ,  0.076258  ],\n",
       "       [ 0.58196025,  0.41803975]])"
      ]
     },
     "execution_count": 23,
     "metadata": {},
     "output_type": "execute_result"
    }
   ],
   "source": [
    "from sklearn.preprocessing import binarize\n",
    "y_pred_proba"
   ]
  },
  {
   "cell_type": "code",
   "execution_count": 24,
   "metadata": {},
   "outputs": [
    {
     "data": {
      "text/plain": [
       "array([[ 1.,  0.],\n",
       "       [ 1.,  0.],\n",
       "       [ 1.,  0.],\n",
       "       [ 1.,  0.],\n",
       "       [ 1.,  0.],\n",
       "       [ 1.,  0.],\n",
       "       [ 1.,  0.],\n",
       "       [ 1.,  0.],\n",
       "       [ 1.,  0.],\n",
       "       [ 0.,  1.],\n",
       "       [ 1.,  0.],\n",
       "       [ 0.,  1.],\n",
       "       [ 1.,  0.],\n",
       "       [ 1.,  0.],\n",
       "       [ 0.,  1.],\n",
       "       [ 1.,  0.],\n",
       "       [ 0.,  1.],\n",
       "       [ 1.,  0.],\n",
       "       [ 1.,  0.],\n",
       "       [ 1.,  0.],\n",
       "       [ 0.,  1.],\n",
       "       [ 0.,  1.],\n",
       "       [ 1.,  0.],\n",
       "       [ 1.,  0.],\n",
       "       [ 0.,  1.],\n",
       "       [ 1.,  0.],\n",
       "       [ 1.,  0.],\n",
       "       [ 1.,  0.],\n",
       "       [ 1.,  0.],\n",
       "       [ 0.,  1.],\n",
       "       [ 0.,  1.],\n",
       "       [ 0.,  1.],\n",
       "       [ 1.,  0.],\n",
       "       [ 1.,  0.],\n",
       "       [ 0.,  1.],\n",
       "       [ 1.,  0.],\n",
       "       [ 1.,  0.],\n",
       "       [ 0.,  1.],\n",
       "       [ 1.,  0.],\n",
       "       [ 1.,  0.],\n",
       "       [ 1.,  0.],\n",
       "       [ 1.,  0.],\n",
       "       [ 1.,  0.],\n",
       "       [ 1.,  0.],\n",
       "       [ 1.,  0.],\n",
       "       [ 1.,  0.],\n",
       "       [ 1.,  0.],\n",
       "       [ 1.,  0.],\n",
       "       [ 1.,  0.],\n",
       "       [ 1.,  0.],\n",
       "       [ 1.,  0.],\n",
       "       [ 0.,  1.],\n",
       "       [ 1.,  0.],\n",
       "       [ 1.,  0.],\n",
       "       [ 1.,  0.],\n",
       "       [ 1.,  0.],\n",
       "       [ 0.,  1.],\n",
       "       [ 1.,  0.],\n",
       "       [ 1.,  0.],\n",
       "       [ 1.,  0.],\n",
       "       [ 0.,  1.],\n",
       "       [ 1.,  0.],\n",
       "       [ 1.,  0.],\n",
       "       [ 1.,  0.],\n",
       "       [ 1.,  0.],\n",
       "       [ 1.,  0.],\n",
       "       [ 1.,  0.],\n",
       "       [ 0.,  1.],\n",
       "       [ 1.,  0.],\n",
       "       [ 0.,  1.],\n",
       "       [ 0.,  1.],\n",
       "       [ 1.,  0.],\n",
       "       [ 1.,  0.],\n",
       "       [ 0.,  1.],\n",
       "       [ 1.,  0.],\n",
       "       [ 0.,  1.],\n",
       "       [ 0.,  1.],\n",
       "       [ 1.,  0.],\n",
       "       [ 1.,  0.],\n",
       "       [ 1.,  0.],\n",
       "       [ 1.,  0.],\n",
       "       [ 0.,  1.],\n",
       "       [ 1.,  0.],\n",
       "       [ 1.,  0.],\n",
       "       [ 1.,  0.],\n",
       "       [ 1.,  0.],\n",
       "       [ 0.,  1.],\n",
       "       [ 1.,  0.],\n",
       "       [ 0.,  1.],\n",
       "       [ 1.,  0.],\n",
       "       [ 1.,  0.],\n",
       "       [ 1.,  0.],\n",
       "       [ 1.,  0.],\n",
       "       [ 1.,  0.],\n",
       "       [ 1.,  0.],\n",
       "       [ 0.,  1.],\n",
       "       [ 0.,  1.],\n",
       "       [ 0.,  1.],\n",
       "       [ 1.,  0.],\n",
       "       [ 1.,  0.],\n",
       "       [ 1.,  0.],\n",
       "       [ 1.,  0.],\n",
       "       [ 1.,  0.],\n",
       "       [ 1.,  0.],\n",
       "       [ 1.,  0.],\n",
       "       [ 1.,  0.],\n",
       "       [ 1.,  0.],\n",
       "       [ 1.,  0.],\n",
       "       [ 1.,  0.],\n",
       "       [ 1.,  0.],\n",
       "       [ 1.,  0.],\n",
       "       [ 1.,  0.],\n",
       "       [ 1.,  0.],\n",
       "       [ 0.,  1.],\n",
       "       [ 0.,  1.],\n",
       "       [ 0.,  1.],\n",
       "       [ 1.,  0.],\n",
       "       [ 1.,  0.],\n",
       "       [ 1.,  0.],\n",
       "       [ 1.,  0.],\n",
       "       [ 0.,  1.],\n",
       "       [ 1.,  0.],\n",
       "       [ 0.,  1.],\n",
       "       [ 1.,  0.],\n",
       "       [ 1.,  0.],\n",
       "       [ 1.,  0.],\n",
       "       [ 1.,  0.],\n",
       "       [ 0.,  1.],\n",
       "       [ 0.,  1.],\n",
       "       [ 1.,  0.],\n",
       "       [ 1.,  0.],\n",
       "       [ 1.,  0.],\n",
       "       [ 0.,  1.],\n",
       "       [ 1.,  0.],\n",
       "       [ 1.,  0.],\n",
       "       [ 0.,  1.],\n",
       "       [ 1.,  0.],\n",
       "       [ 1.,  0.],\n",
       "       [ 1.,  0.],\n",
       "       [ 0.,  1.],\n",
       "       [ 1.,  0.],\n",
       "       [ 0.,  1.],\n",
       "       [ 1.,  0.],\n",
       "       [ 1.,  0.],\n",
       "       [ 1.,  0.],\n",
       "       [ 1.,  0.],\n",
       "       [ 1.,  0.],\n",
       "       [ 1.,  0.],\n",
       "       [ 1.,  0.],\n",
       "       [ 1.,  0.],\n",
       "       [ 1.,  0.],\n",
       "       [ 0.,  1.],\n",
       "       [ 1.,  0.],\n",
       "       [ 1.,  0.]])"
      ]
     },
     "execution_count": 24,
     "metadata": {},
     "output_type": "execute_result"
    }
   ],
   "source": [
    "y_pred_default = binarize(y_pred_proba, threshold=0.5)\n",
    "y_pred_default"
   ]
  },
  {
   "cell_type": "code",
   "execution_count": 25,
   "metadata": {},
   "outputs": [
    {
     "data": {
      "text/plain": [
       "array([ 0.,  0.,  0.,  0.,  0.,  0.,  0.,  0.,  0.,  1.,  0.,  1.,  0.,\n",
       "        0.,  1.,  0.,  1.,  0.,  0.,  0.,  1.,  1.,  0.,  0.,  1.,  0.,\n",
       "        0.,  0.,  0.,  1.,  1.,  1.,  0.,  0.,  1.,  0.,  0.,  1.,  0.,\n",
       "        0.,  0.,  0.,  0.,  0.,  0.,  0.,  0.,  0.,  0.,  0.,  0.,  1.,\n",
       "        0.,  0.,  0.,  0.,  1.,  0.,  0.,  0.,  1.,  0.,  0.,  0.,  0.,\n",
       "        0.,  0.,  1.,  0.,  1.,  1.,  0.,  0.,  1.,  0.,  1.,  1.,  0.,\n",
       "        0.,  0.,  0.,  1.,  0.,  0.,  0.,  0.,  1.,  0.,  1.,  0.,  0.,\n",
       "        0.,  0.,  0.,  0.,  1.,  1.,  1.,  0.,  0.,  0.,  0.,  0.,  0.,\n",
       "        0.,  0.,  0.,  0.,  0.,  0.,  0.,  0.,  0.,  1.,  1.,  1.,  0.,\n",
       "        0.,  0.,  0.,  1.,  0.,  1.,  0.,  0.,  0.,  0.,  1.,  1.,  0.,\n",
       "        0.,  0.,  1.,  0.,  0.,  1.,  0.,  0.,  0.,  1.,  0.,  1.,  0.,\n",
       "        0.,  0.,  0.,  0.,  0.,  0.,  0.,  0.,  1.,  0.,  0.])"
      ]
     },
     "execution_count": 25,
     "metadata": {},
     "output_type": "execute_result"
    }
   ],
   "source": [
    "y_pred_default[:,1]"
   ]
  },
  {
   "cell_type": "code",
   "execution_count": 26,
   "metadata": {},
   "outputs": [
    {
     "data": {
      "text/plain": [
       "array([[27, 27],\n",
       "       [12, 88]])"
      ]
     },
     "execution_count": 26,
     "metadata": {},
     "output_type": "execute_result"
    }
   ],
   "source": [
    "confusion_matrix(y_test, y_pred_default[:,1],labels = [1,0])"
   ]
  },
  {
   "cell_type": "code",
   "execution_count": 27,
   "metadata": {},
   "outputs": [
    {
     "data": {
      "text/plain": [
       "array([[50,  4],\n",
       "       [48, 52]])"
      ]
     },
     "execution_count": 27,
     "metadata": {},
     "output_type": "execute_result"
    }
   ],
   "source": [
    "y_pred_low = binarize(y_pred_proba, threshold=0.2)\n",
    "confusion_matrix(y_test, y_pred_low[:,1],labels=[1,0])"
   ]
  },
  {
   "cell_type": "code",
   "execution_count": 28,
   "metadata": {},
   "outputs": [
    {
     "data": {
      "text/plain": [
       "0.9285714285714286"
      ]
     },
     "execution_count": 28,
     "metadata": {},
     "output_type": "execute_result"
    }
   ],
   "source": [
    "from __future__ import division\n",
    "def npv_func(th):\n",
    "    y_pred_low = binarize(y_pred_proba, threshold=th)\n",
    "    second_column = confusion_matrix(y_test, y_pred_low[:,1],labels=[1,0])[:,1]\n",
    "    npv = second_column[1]/second_column.sum()\n",
    "    return npv\n",
    "\n",
    "npv_func(0.2)"
   ]
  },
  {
   "cell_type": "code",
   "execution_count": 30,
   "metadata": {},
   "outputs": [
    {
     "name": "stderr",
     "output_type": "stream",
     "text": [
      "C:\\ProgramData\\Anaconda3\\lib\\site-packages\\ipykernel_launcher.py:5: RuntimeWarning: invalid value encountered in long_scalars\n",
      "  \"\"\"\n"
     ]
    },
    {
     "data": {
      "image/png": "[encoded data removed]",
      "text/plain": [
       "<matplotlib.figure.Figure at 0xb21c4a8>"
      ]
     },
     "metadata": {},
     "output_type": "display_data"
    }
   ],
   "source": [
    "ths = np.arange(0,1,0.05)\n",
    "\n",
    "npvs = []\n",
    "for th in np.arange(0,1.00,0.05):\n",
    "    npvs.append(npv_func(th))\n",
    "    \n",
    "plt.plot(ths,npvs)\n",
    "plt.show()"
   ]
  },
  {
   "cell_type": "markdown",
   "metadata": {},
   "source": [
    "#### Analysis and Plotting an ROC curve without context "
   ]
  },
  {
   "cell_type": "code",
   "execution_count": 31,
   "metadata": {
    "collapsed": true
   },
   "outputs": [],
   "source": [
    "from sklearn.metrics import roc_curve\n",
    "fpr, tpr, ths = roc_curve(y_test, y_pred_proba[:,1])"
   ]
  },
  {
   "cell_type": "code",
   "execution_count": 33,
   "metadata": {},
   "outputs": [
    {
     "data": {
      "image/png": "[encoded data removed]",
      "text/plain": [
       "<matplotlib.figure.Figure at 0xb2b3780>"
      ]
     },
     "metadata": {},
     "output_type": "display_data"
    }
   ],
   "source": [
    "plt.plot(ths,tpr)\n",
    "plt.show()"
   ]
  },
  {
   "cell_type": "code",
   "execution_count": 34,
   "metadata": {},
   "outputs": [
    {
     "data": {
      "text/plain": [
       "array([[54,  0],\n",
       "       [81, 19]])"
      ]
     },
     "execution_count": 34,
     "metadata": {},
     "output_type": "execute_result"
    }
   ],
   "source": [
    "y_pred_th= binarize(y_pred_proba, threshold=0.1)\n",
    "confusion_matrix(y_test, y_pred_th[:,1],labels=[1,0])"
   ]
  },
  {
   "cell_type": "code",
   "execution_count": 35,
   "metadata": {},
   "outputs": [
    {
     "data": {
      "text/plain": [
       "array([[54,  0],\n",
       "       [67, 33]])"
      ]
     },
     "execution_count": 35,
     "metadata": {},
     "output_type": "execute_result"
    }
   ],
   "source": [
    "y_pred_th = binarize(y_pred_proba, threshold=0.146)\n",
    "confusion_matrix(y_test, y_pred_th[:,1],labels=[1,0])"
   ]
  },
  {
   "cell_type": "code",
   "execution_count": 37,
   "metadata": {},
   "outputs": [
    {
     "data": {
      "image/png": "[encoded data removed]",
      "text/plain": [
       "<matplotlib.figure.Figure at 0xb6fab00>"
      ]
     },
     "metadata": {},
     "output_type": "display_data"
    }
   ],
   "source": [
    "fpr, tpr, ths = roc_curve(y_test, y_pred_proba[:,1])\n",
    "plt.plot(fpr,tpr)\n",
    "plt.show()"
   ]
  },
  {
   "cell_type": "code",
   "execution_count": 38,
   "metadata": {},
   "outputs": [
    {
     "data": {
      "text/plain": [
       "0.82518518518518524"
      ]
     },
     "execution_count": 38,
     "metadata": {},
     "output_type": "execute_result"
    }
   ],
   "source": [
    "from sklearn.metrics import auc\n",
    "auc(fpr,tpr)"
   ]
  },
  {
   "cell_type": "markdown",
   "metadata": {},
   "source": [
    "#### UCI breast cancer dataset "
   ]
  },
  {
   "cell_type": "code",
   "execution_count": 51,
   "metadata": {},
   "outputs": [
    {
     "data": {
      "text/plain": [
       "radius             int64\n",
       "texture            int64\n",
       "perimeter          int64\n",
       "area               int64\n",
       "smoothness         int64\n",
       "compactness       object\n",
       "concavity          int64\n",
       "concave points     int64\n",
       "symmetry           int64\n",
       "malignant          int64\n",
       "dtype: object"
      ]
     },
     "execution_count": 51,
     "metadata": {},
     "output_type": "execute_result"
    }
   ],
   "source": [
    "import numpy as np\n",
    "import pandas as pd\n",
    "data_web_address = \"https://archive.ics.uci.edu/ml/machine-learning-databases/breast-cancer-wisconsin/breast-cancer-wisconsin.data\"\n",
    "column_names = ['radius',\n",
    "                'texture',\n",
    "                'perimeter',\n",
    "                'area',\n",
    "                'smoothness' \n",
    "                ,'compactness',\n",
    "                'concavity',\n",
    "                'concave points', \n",
    "                'symmetry',\n",
    "                'malignant']\n",
    "feature_names = column_names[:-1]\n",
    "all_data = pd.read_csv(data_web_address , names=column_names)\n",
    "all_data.dtypes"
   ]
  },
  {
   "cell_type": "code",
   "execution_count": 52,
   "metadata": {},
   "outputs": [
    {
     "data": {
      "text/plain": [
       "0    458\n",
       "1    241\n",
       "Name: malignant, dtype: int64"
      ]
     },
     "execution_count": 52,
     "metadata": {},
     "output_type": "execute_result"
    }
   ],
   "source": [
    "#changing the state of having cancer to 1, not having cancer to 0\n",
    "all_data['malignant'] = all_data['malignant'].astype(np.int)\n",
    "all_data['malignant'] = np.where(all_data['malignant'] == 4, 1,0) #4, and now 1 means malignant\n",
    "all_data['malignant'].value_counts()"
   ]
  },
  {
   "cell_type": "code",
   "execution_count": 54,
   "metadata": {
    "collapsed": true
   },
   "outputs": [],
   "source": [
    "X = all_data[[col for col in feature_names if col != 'compactness']]\n",
    "y = all_data.malignant\n",
    "\n",
    "from sklearn.model_selection import train_test_split\n",
    "X_train, X_test, y_train, y_test = train_test_split(X, y, test_size=0.2, random_state=7,stratify=y)\n",
    "\n",
    "from sklearn.linear_model import LogisticRegression\n",
    "lr = LogisticRegression()\n",
    "lr.fit(X_train,y_train)\n",
    "y_pred_proba = lr.predict_proba(X_test)"
   ]
  },
  {
   "cell_type": "code",
   "execution_count": 56,
   "metadata": {},
   "outputs": [
    {
     "data": {
      "text/plain": [
       "<matplotlib.legend.Legend at 0xb878128>"
      ]
     },
     "execution_count": 56,
     "metadata": {},
     "output_type": "execute_result"
    },
    {
     "data": {
      "image/png": "[encoded data removed]",
      "text/plain": [
       "<matplotlib.figure.Figure at 0xb844860>"
      ]
     },
     "metadata": {},
     "output_type": "display_data"
    }
   ],
   "source": [
    "import matplotlib.pyplot as plt\n",
    "from sklearn.metrics import roc_curve, auc, roc_auc_score\n",
    "\n",
    "fpr, tpr, ths = roc_curve(y_test, y_pred_proba[:,1])\n",
    "\n",
    "auc_score = auc(fpr,tpr)\n",
    "plt.plot(fpr,tpr,label=\"AUC Score:\" + str(auc_score))\n",
    "plt.xlabel('fpr',fontsize='15')\n",
    "plt.ylabel('tpr',fontsize='15')\n",
    "plt.legend(loc='best')"
   ]
  }
 ],
 "metadata": {
  "kernelspec": {
   "display_name": "Python 3",
   "language": "python",
   "name": "python3"
  },
  "language_info": {
   "codemirror_mode": {
    "name": "ipython",
    "version": 3
   },
   "file_extension": ".py",
   "mimetype": "text/x-python",
   "name": "python",
   "nbconvert_exporter": "python",
   "pygments_lexer": "ipython3",
   "version": "3.6.1"
  }
 },
 "nbformat": 4,
 "nbformat_minor": 2
}
